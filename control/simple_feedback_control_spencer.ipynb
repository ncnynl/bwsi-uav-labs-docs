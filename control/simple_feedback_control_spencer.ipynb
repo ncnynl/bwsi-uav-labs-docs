{
 "cells": [
  {
   "cell_type": "code",
   "execution_count": 1,
   "metadata": {},
   "outputs": [],
   "source": [
    "from __future__ import division, print_function\n",
    "import numpy as np\n",
    "import matplotlib.pyplot as plt\n",
    "\n",
    "_HEIGHT = 1.0\n",
    "_VEL_CONST = 1.0\n",
    "_TIME_STEP = 0.1"
   ]
  },
  {
   "cell_type": "markdown",
   "metadata": {},
   "source": [
    "## Plant Dynamics, Sensors, and Actuators\n",
    "\n",
    "the following object contains functions for the plant dynamics, sensing of the target angle $\\gamma$, and actuator for $v_{cmd}$"
   ]
  },
  {
   "cell_type": "code",
   "execution_count": 2,
   "metadata": {},
   "outputs": [],
   "source": [
    "class SimpleSlideCamera():\n",
    "    '''Object that defines the dynamics of the simple slide-camera'''\n",
    "    \n",
    "    def __init__(self, x_0, v_0, x_d, gamma_d=0.0, h=_HEIGHT):\n",
    "        \n",
    "        # state variables (hidden)\n",
    "        self.__x = x_0\n",
    "        self.__v = v_0\n",
    "        \n",
    "        # reference position (hidden)\n",
    "        self.__x_d = x_d\n",
    "        \n",
    "        # reference angle (observed)\n",
    "        self.gamma_d = gamma_d\n",
    "        \n",
    "        # parameters\n",
    "        self.__h = h\n",
    "        \n",
    "    def sense_gamma(self):\n",
    "        # calculate angle from camera center line to target\n",
    "        return  np.arctan2(self.__x - self.__x_d, self.__h)\n",
    "    \n",
    "    def _get_hidden_position(self):\n",
    "        \n",
    "        return self.__x\n",
    "    \n",
    "    def _get_hidden_position_desired(self):\n",
    "        return self.__x_d\n",
    "    \n",
    "    def _get_hidden_velocity(self):\n",
    "        return self.__v\n",
    "    \n",
    "    def actuate_velocity_command(self, vel_cmd, dt=_TIME_STEP):\n",
    "        self.__v = vel_cmd\n",
    "        self.__x += self.__v*dt\n",
    "        \n",
    "    def actuate_disturbed_velocity_command(self, vel_cmd, dt=_TIME_STEP, vel_bias=0.5, vel_std=0.1):\n",
    "        self.__v = vel_cmd + np.random.normal(vel_bias, vel_std)\n",
    "        self.__x += self.__v*dt\n",
    "        \n",
    "    def actuate_acceleration_command(self, acc_cmd, dt=_TIME_STEP):\n",
    "        self.__v += acc_cmd*dt\n",
    "        self.__x += self.__v*dt "
   ]
  },
  {
   "cell_type": "markdown",
   "metadata": {},
   "source": [
    "## Controller"
   ]
  },
  {
   "cell_type": "code",
   "execution_count": 83,
   "metadata": {},
   "outputs": [],
   "source": [
    "def p_control_vel(y_err, kp):\n",
    "    ''' compute the actuator command based on proportional error between output and desired output\n",
    "    Args:\n",
    "    y_err: y - y_des where y is the output variable of the plant\n",
    "    '''\n",
    "    \n",
    "    # TODO: write a proportional control law (hint: it is a single line, very simple equations)\n",
    "    # END TODO\n",
    "    cmd =- kp* y_err\n",
    "    return cmd\n",
    "prev_err = 0.0\n",
    "def p_control_acc(y_err, kp):\n",
    "    ''' compute the actuator command based on proportional error between output and desired output\n",
    "    Args:\n",
    "    y_err: y - y_des where y is the output variable of the plant\n",
    "    '''\n",
    "    \n",
    "    # TODO: write a proportional control law (hint: it is a single line, very simple equations)\n",
    "    # END TODO\n",
    "    global prev_err\n",
    "    cmd =- kp*(y_err-prev_err)/dt\n",
    "    prev_err = y_err\n",
    "    return cmd"
   ]
  },
  {
   "cell_type": "markdown",
   "metadata": {},
   "source": [
    "## Simulation Script\n",
    "\n",
    "below is a script for testing various controllers for the `SimpleSlideCamera` plant as well as plotting the results."
   ]
  },
  {
   "cell_type": "code",
   "execution_count": 84,
   "metadata": {},
   "outputs": [
    {
     "data": {
      "image/png": "[encoded data removed]",
      "text/plain": [
       "<Figure size 432x288 with 1 Axes>"
      ]
     },
     "metadata": {},
     "output_type": "display_data"
    }
   ],
   "source": [
    "\n",
    "# Control inputs\n",
    "kp = 1.0\n",
    "dt = _TIME_STEP\n",
    "t_final = 10.0\n",
    "\n",
    "# intial conditions (position, velocity and targe position)\n",
    "x_0 = 0.0\n",
    "v_0 = 0.0\n",
    "x_des = 1.0\n",
    "\n",
    "# create SimpleSlideCamera with initial conditions\n",
    "sscam = SimpleSlideCamera(x_0, v_0, x_des)\n",
    "\n",
    "# initialize data storage\n",
    "data = dict()\n",
    "data['t'] = []\n",
    "data['acc_cmd'] = []\n",
    "data['vel_cmd'] = []\n",
    "data['err_gamma'] = []\n",
    "data['x_hidden'] = []\n",
    "data['v_hidden'] = []\n",
    "t = 0.0\n",
    "err_prev = 0.0\n",
    "while t < t_final:\n",
    "    t += dt\n",
    "    \n",
    "    # SENSOR: sense output variable gamma (angle from camera centerline to target) and calculate error from desired\n",
    "    err_gamma = sscam.sense_gamma() - sscam.gamma_d\n",
    "    \n",
    "    #print(err_gamma, t)\n",
    "    \n",
    "    # CONTROLLER: call velocity control algoritm\n",
    "    acc_cmd = p_control_acc(err_gamma, kp)\n",
    "    \n",
    "    # ACTUATOR: send velocity command to plant\n",
    "    sscam.actuate_acceleration_command(acc_cmd)\n",
    "    \n",
    "    # store data\n",
    "    err_gamma_prev = err_gamma\n",
    "    data['t'].append(t)\n",
    "    data['vel_cmd'].append(vel_cmd)\n",
    "    data['err_gamma'].append(err_gamma)\n",
    "    data['x_hidden'].append(sscam._get_hidden_position())\n",
    "    data['v_hidden'].append(sscam._get_hidden_velocity())\n",
    "    \n",
    "# Plot Data\n",
    "handle_position, = plt.plot(data['t'], data['x_hidden'], label='position (hidden)[m]')\n",
    "handle_velocity, = plt.plot(data['t'], data['v_hidden'], label='velocity (hidden)[m/s]')\n",
    "handle_err_gamma, = plt.plot(data['t'], data['err_gamma'], label='gamma error [rad]')\n",
    "plt.legend(handles=[handle_position, handle_velocity, handle_err_gamma])\n",
    "plt.show()"
   ]
  },
  {
   "cell_type": "markdown",
   "metadata": {},
   "source": [
    "## Questions\n",
    "\n",
    "**1. Does your gamma error (i.e. output converge to 0.0? If so, how quickly (i.e. how long does it take for the error to be 5% of the original error)**\n",
    "\n",
    "Yes, it takes approximately 3.4 seconds.\n",
    "    \n",
    "**2. What values should your system's position and velocity be converging upon? Since this is a practice problem and we want to gain understanding of how this system behaves, we've cheated and let you observe the position and velocity of the system which were meant to be unobservable in the real world. Are the position and velocity converging to values you expected?**\n",
    "\n",
    "The position should be converging upon $x_\\text{des}$, which is 1.00 meter, while the velocity is converging upon 0.0 m/s. The graph indicates that both are converging upon their expected values.\n",
    "\n",
    "**3. As you increase the proportional gain, what happens to the rate at which the error converges to zero? **\n",
    "\n",
    "As $K_p$ is increased, provided that it is not significantly high, the rate at which the error converges to zero increases.\n",
    "\n",
    "  - **Can you find a proportional gain that converges within 1 second (i.e error reaches 5% of it's original value)?**\n",
    "  \n",
    "  Yes, when $K_p=10$, the graph converges within 1 second.\n",
    "  \n",
    "**4. Do you think there is such a thing as a proportional gain being too large? What could be some possible effects of setting your gain too high?**\n",
    "\n",
    "Yes, if $K_p$ is too large, the controller \"overcompensates\" for the error when correcting it every time, which would create oscillating values for position, velocity, and/or error.\n",
    "\n",
    "   - **Try it out: find gain that \"breaks\" the nice behavior of the system. What is the approximate value of that \"threshold\" gain? What is happening to the system when you set the gain higher than that threshold? Can you explain why it's behaving as it is?**\n",
    "    \n",
    "   The \"threshold\" gain is approximately $K_p=15$. After this, the system's error oscillates between positive and negative values for the gamma error, eventually dampening it down to zero. This occurs because after each iteration of the control loop, the controller sends the actuator a command that is in the opposite sign of the current error, but also of a greater magnitude due to the large $K_p$. As a result, the sign of each variable oscillates between positive and negative.\n",
    "    \n",
    "   - **Keeping the gain above this threshold, is there anything you could change that would fix this behavior? Is this change always possible in the real world; why or why not?**\n",
    "   \n",
    "   I could fix this oscillation by decreasing the sampling/loop execution time, `dt`. This is not always possible in the real world, as computatation processors run on their own clocks, which have a maximum frequency,  while sensors also have a minimum sampling time.\n",
    "   \n",
    "**5. What happens if you cannot perfectly control the velocity, for example there is some form of velocity disturbance that you cannot control (e.g. wind)? Let's try it out:**\n",
    "\n",
    "   - **in the ACTUATOR portion of the simulation script, replace `actuate_velocity_command` with `actuate_disturbed_velocity_command`, restart the kernel, and run the script. Does output error (gamma error) still converge to zero? If not, what does the gamma error converge to? How might you change your controller to fix this \"steady state error\"**\n",
    "    \n",
    "   The output gamma error still converges toward zero, but it doesn't strictly approach zero. To fix this \"steady state error\" I might send a command telling the plant to not move (such that $v=0$) after $x$ is within a certain distance of $x_\\text{des}$, so that no error is induced.\n",
    "    \n",
    "**6. Often times we control a system by applying a force. In this way we are not directly controlling the velocity of a system, but instead the acceleration. Let's try it out:**\n",
    "\n",
    "   - **in the ACTUATOR portion of the simulation script replace `actuate_velocity_command` with `actuate_acceleration_command`. In the CONTROLLER portion of the script, have the controller output a acc_cmd instead of vel_cmd (just change the variable name, but this way you know it represents an acceleration instead of a velocity). Restart the kernel and rerun the script**\n",
    "   \n",
    "   - **Now what is happening to the gamma error, is it converging to zero? If not, is there anything you could think of to change in you controller in order to converge the error to zero?**\n",
    "   \n",
    "   No, now the gamma error is sinusoidal and oscillating, without its amplitude being damped. To converge the error to zero, I would change to acceleration by the derivative of $\\gamma_\\text{"
   ]
  },
  {
   "cell_type": "code",
   "execution_count": null,
   "metadata": {},
   "outputs": [],
   "source": []
  }
 ],
 "metadata": {
  "kernelspec": {
   "display_name": "Python 2",
   "language": "python",
   "name": "python2"
  },
  "language_info": {
   "codemirror_mode": {
    "name": "ipython",
    "version": 2
   },
   "file_extension": ".py",
   "mimetype": "text/x-python",
   "name": "python",
   "nbconvert_exporter": "python",
   "pygments_lexer": "ipython2",
   "version": "2.7.12"
  }
 },
 "nbformat": 4,
 "nbformat_minor": 2
}
