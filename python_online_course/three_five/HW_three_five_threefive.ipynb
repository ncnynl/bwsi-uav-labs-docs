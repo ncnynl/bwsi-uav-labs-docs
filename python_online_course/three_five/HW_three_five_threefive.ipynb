{
 "cells": [
  {
   "cell_type": "markdown",
   "metadata": {},
   "source": [
    "# Three, Five, Three-Five\n",
    "Write code that, given `x` (an integer), returns: \n",
    " - the string \"threefive\", if `x` is a multiple of both 3 and 5.\n",
    " - the string \"three\", if `x` is a multiple of 3 and not 5.\n",
    " - the string \"five\", if `x` is a multiple of 5 and not 3.\n",
    " - the integer `x`, if `x` is not divisible by either 3 or 5.\n",
    "\n",
    "You may assume that your input is an integer greater than 0."
   ]
  },
  {
   "cell_type": "code",
   "execution_count": 3,
   "metadata": {},
   "outputs": [],
   "source": [
    "# make sure to execute this cell so that your function is defined\n",
    "# you must re-run this cell any time you make a change to this function\n",
    "\n",
    "def student_func(x):\n",
    "    # write your code here\n",
    "    # be sure to include a `return` statement so that\n",
    "    # your function returns the appropriate object.\n",
    "    result = ''\n",
    "    if x % 3 == 0:\n",
    "        result = result + 'three'\n",
    "    if x % 5 == 0:\n",
    "        result = result + 'five'\n",
    "    if result == '':\n",
    "        result = x\n",
    "    return result\n",
    "    pass"
   ]
  },
  {
   "cell_type": "code",
   "execution_count": 4,
   "metadata": {},
   "outputs": [
    {
     "name": "stdout",
     "output_type": "stream",
     "text": [
      "============================== ALL TESTS PASSED! ===============================\n",
      "Your submission code: bwf7c0bd37437c689e2eafaea0f5baea301eb501b1c730aef901c6f688\n",
      "================================================================================\n"
     ]
    }
   ],
   "source": [
    "# Execute this cell to grade your work\n",
    "from grader import grade_solution\n",
    "grade_solution(student_func)"
   ]
  },
  {
   "cell_type": "code",
   "execution_count": null,
   "metadata": {},
   "outputs": [],
   "source": []
  }
 ],
 "metadata": {
  "kernelspec": {
   "display_name": "Python 3",
   "language": "python",
   "name": "python3"
  },
  "language_info": {
   "codemirror_mode": {
    "name": "ipython",
    "version": 3
   },
   "file_extension": ".py",
   "mimetype": "text/x-python",
   "name": "python",
   "nbconvert_exporter": "python",
   "pygments_lexer": "ipython3",
   "version": "3.6.4"
  }
 },
 "nbformat": 4,
 "nbformat_minor": 2
}
