{
 "cells": [
  {
   "attachments": {
    "quadratic.png": {
     "image/png": "[encoded data removed]"
    }
   },
   "cell_type": "markdown",
   "metadata": {},
   "source": [
    "# The Iterative Relaxation Method\n",
    "> Written by Ryan Soklaski\n",
    "\n",
    "## Understanding Fixed-Points\n",
    "In mathematics, a function $f(x)$ is said to have a \"fixed-point\" solution if there exists a value $x_{*}$ such that $f(x_{*}) = x_{*}$. That is, $f$ maps $x_{*}$ to itself. As a simple example, given $f(x) = x^{2}$, check that $f$ has a fixed-points at $x = 0$ and $x = 1$.\n",
    "\n",
    "For a less trivial example, let's see if the function $f(x) = x^{2} - 1$ has any fixed points. That is, we want to find all solutions to $f(x) = x$:\n",
    "\n",
    "\\begin{equation}\n",
    "x^{2} - 1 = x \\\\\\\n",
    "x^{2} - x - 1 = 0 \\\\\\\n",
    "x = -0.61803...,\\; x = 1.61803...\n",
    "\\end{equation}\n",
    "\n",
    "We made use of the [quadratic formula](https://en.wikipedia.org/wiki/Quadratic_formula) to find the two fixed-points for $f(x) = x^{2} - 1$. \n",
    "\n",
    "Consider that solving the fixed-point equation $f(x) = x$ is tantamount to finding where the values of $x$ where $f(x)$ intersects the line $y = x$:\n",
    "![Fixed-points for a quadratic equation](attachment:quadratic.png)\n",
    "\n",
    "There are many functions such that one cannot simply solve for $x$. For example, neither of the following equations are amenable to any algebraic manipulation that would reveal their solutions :\n",
    "\\begin{equation}\n",
    "\\sin{x} = x \\\\\\\n",
    "e^{x} - 1 = x\n",
    "\\end{equation}\n",
    "\n",
    "Such equations are thus known as *transcendental* equations. How, then, can we find the fixed-point solutions (if they exist) for such functions? There is a simple numerical method, known as the relaxation method, that can be used towards this end."
   ]
  },
  {
   "cell_type": "markdown",
   "metadata": {},
   "source": [
    "## The Relaxation Method\n",
    "Suppose for now that $f(x)$ has one fixed-point solution, $x_{*}$. The relaxation method allows us to \"guess\" a fixed-point solution, and then iteratively improve upon this guess until you have arrived at a value that is sufficiently close to the true fixed-point, $x_{*}$. \n",
    "\n",
    "Specifically, given your initial guess of $f$'s fixed-point, $x_{0}$, you can generate a better guess by simply feeding $x_{0}$ to $f$, and using the output as your updated guess, $x_{1}$: \n",
    "\\begin{equation}\n",
    "x_{1} = f(x_{0})\n",
    "\\end{equation}\n",
    "\n",
    "You can then improve this guess by feeding $x_{1}$ to $f$ and using the output as the next guess. Repeating this process $n$ times will produce $n$ consecutively-improved guesses at the true fixed-point, $x_{*}$:\n",
    "\\begin{equation}\n",
    "x_{1} = f(x_{0}) \\\\\\\n",
    "x_{2} = f(x_{1}) \\\\\\\n",
    "x_{3} = f(x_{2}) \\\\\\\n",
    "... \\\\\\\n",
    "x_{n} = f(x_{n-1}) \\\\\\\n",
    "\\\\\\\n",
    "x_{n} \\approx x_{*}\n",
    "\\end{equation}\n",
    "\n",
    "For example, let's find a fixed point for $f(x) = \\tanh{5x}$ taking an initial guess of $0.5$.\n",
    "\\begin{equation}\n",
    "-0.9866143 = f(0.5) \\\\\\\n",
    "-0.9998962 = f(-0.9866143) \\\\\\\n",
    "-0.99990912 = f(-0.99990911) \\\\\\\n",
    "-0.99990912 = f(-0.99990912) \\\\\\\n",
    "\\end{equation}\n",
    "\n",
    "We arrived at a fixed-point (within 7 decimal-places of precision) after four iterations!\n",
    "\n",
    "### Caveats to the relaxation method \n",
    "For all its simplicity, the relaxation method is not a completely robust solution for finding fixed points, in which case this method can only potentially find one, for a given initial guess. It will fail if your function does not have fixed points. It is also very much possible for a function to have multiple fixed points. Additionally, this iterative process can \"blow up\" and lead you to ever-growing numbers if you use a \"bad\" starting guess. It is possible for the relaxation method to get stuck in a loop. If you try to find the fixed points for $x^2 - 1$ using an initial guess of $x_{o} = 0.5$, you will find that you eventually repeatedly guess 0, -1, 0, -1, 0, .... Be aware of these pitfalls when you are testing your code - they are a fundamental issue of the relaxation method, and not a symptom of bad code. \n",
    "\n",
    "You need not worry about accounting for these issues in your code. You will never be given pathological functions/guesses that would cause these issues, in this homework.\n",
    "\n",
    "\n"
   ]
  },
  {
   "cell_type": "markdown",
   "metadata": {},
   "source": [
    "### Problem #1\n",
    "Write a relaxation-method function that accepts three arguments:\n",
    "- a python function, which accepts a number as an input, and returns a float as an output\n",
    "- an initial guess for the fixed-point, $x_{0}$, a floating-point number\n",
    "- the number of iterations, $n$, to perform the relaxation method on the provided function\n",
    "\n",
    "Your function should return a list of the $n+1$ numbers: the initial guess and the $n$ guesses that you generate using the relaxation method. \n",
    "\n",
    "So, in the context of the preceding relaxation example, I could define the function:\n",
    "```python\n",
    "from math import tanh\n",
    "def f(x):\n",
    "    return tanh(5*x)\n",
    "```\n",
    "and then calling your relaxation function, passing it this function, an initial guess of $x_{o}=0.5$, and instructing it to perform 5 iterations, should produce the following list:\n",
    "```python\n",
    ">>> relaxation_method(f, xo=-.5, num_it=5)\n",
    "[-0.5,\n",
    " -0.98661429815143031,\n",
    " -0.99989620032332682,\n",
    " -0.99990910997226823,\n",
    " -0.99990912170456125,\n",
    " -0.99990912171522284]\n",
    "```\n",
    "That is, your `relaxation_method` function should call `f(xo)` to obtain the updated-guess for the fixed point, as the first iteration, and so on. Use the parameters provided in this example to test your code. "
   ]
  },
  {
   "cell_type": "code",
   "execution_count": 2,
   "metadata": {},
   "outputs": [],
   "source": [
    "def relaxation_method1(func, xo, num_it):\n",
    "    \"\"\" Performs the relaxation method to find a fixed-point for `func`,\n",
    "        given the initial guess `xo`. The relaxation process is carried out for\n",
    "        `num_it` steps.\n",
    "        \n",
    "        Parameters\n",
    "        ----------\n",
    "        func : Callable[[float], float]\n",
    "            The function whose fixed point is being found.\n",
    "        xo : float\n",
    "            The initial \"guess\" value.\n",
    "        num_it : int\n",
    "            The number of relaxation-iterations to perform.\n",
    "        \n",
    "        Returns\n",
    "        -------\n",
    "        List[float]\n",
    "            A list of the initial guess, and all of the subsequent guesses generated\n",
    "            by the relaxation method. \"\"\"\n",
    "    guess = [xo]\n",
    "    for i in range(num_it):\n",
    "        guess.append(func(guess[-1]))\n",
    "    return guess\n",
    "        \n",
    "    # student code goes here\n",
    "    "
   ]
  },
  {
   "cell_type": "code",
   "execution_count": 3,
   "metadata": {},
   "outputs": [
    {
     "name": "stdout",
     "output_type": "stream",
     "text": [
      "Finding fixed-points for the function: f(x) = x**2\n",
      "Passed!\n",
      "\n",
      "Finding fixed-points for the function: f(x) = tanh(4*x)\n",
      "Passed!\n",
      "\n",
      "============================== ALL TESTS PASSED! ===============================\n",
      "Your submission code: bwd33f68540d877caf5766539fb50ec748d1bd1811aebe07c1bd634835\n",
      "================================================================================\n"
     ]
    }
   ],
   "source": [
    "# run this cell to grade your work\n",
    "from grader import grade_relaxation1\n",
    "grade_relaxation1(relaxation_method1)"
   ]
  },
  {
   "cell_type": "markdown",
   "metadata": {},
   "source": [
    "## Problem #2\n",
    "Our current implementation of the relaxation method is quite crude in that we must specify the number of iterations that it performs, and then simply look at the output to see if we have converged to a fix-point. It would instead be better if we could have our algorithm check its own numbers to see if they are converging to a single value, and then terminate itself if it has converged.\n",
    "\n",
    "We can measure how close our most recent guess is to a fixed-point by looking at our most-recent three guesses $x_{n-2}, x_{n-1}, x_{n}$ , and seeing if $x_{n-1}$ and $x_{n}$ are closer to one another than are $x_{n-1}$ and $x_{n-2}$. Skipping a formal derivation, the following formula gives an upper-bound estimate on how close $x_{n}$ is to a true fixed-point:\n",
    "\n",
    "\\begin{equation}\n",
    "\\epsilon_{n} = \\lvert\\frac{(x_n - x_{n-1})^2}{2x_{n-1} - x_{n-2} - x_{n}}\\rvert\n",
    "\\end{equation}\n",
    "\n",
    "That is, if your previous three guesses were $1.0$, then $1.63$, and then $1.80$, plugging these into the preceding formula produces an error bound of $\\epsilon = 0.06$. This means that the guess $1.80$ is within $0.06$ of the true fixed-point. To prevent division-by-zero errors, if your denominator is equal to 0.0, replace it with the value `1e-14`.\n",
    "\n",
    "Armed with this formula, we can now write a much better algorithm, which can operate based on a tolerance rather than a strict number of iterations.\n",
    "\n",
    "Write a second version of the relaxation-method. This function should accept four arguments:\n",
    "- a python function, which accepts a number as an input, and returns a float as an output\n",
    "- an initial guess for the fixed-point, $x_{0}$, a floating-point number\n",
    "- a tolerance value, a positive-valued floating-point number\n",
    "- a max number of iterations that your algorithm is permitted to run\n",
    "\n",
    "Your algorithm should produce guesses until $\\epsilon_{n}$ is smaller than the specified tolerance value, or until the number of guesses produced (including the initial guess) matches/exceeds the max number of iterations. Like the last function, it should return a list of all the guesses. You will need to have three guesses before you can assess the tolerance."
   ]
  },
  {
   "cell_type": "code",
   "execution_count": 8,
   "metadata": {
    "code_folding": []
   },
   "outputs": [],
   "source": [
    "from math import fabs\n",
    "def relaxation_method2(func, xo, tol, max_it):\n",
    "    \"\"\" Performs the relaxation method to find a fixed-point for `func`,\n",
    "        given the initial guess `xo`. The relaxation process is carried out for\n",
    "        `num_it` steps.\n",
    "        \n",
    "        Parameters\n",
    "        ----------\n",
    "        func : Callable[[float], float]\n",
    "            The function whose fixed point is being found.\n",
    "        xo : float\n",
    "            The initial \"guess\" value.\n",
    "        tol : float\n",
    "            A positive value that sets the maximum permissable error\n",
    "            in the final fixed-point estimate.\n",
    "        max_it : int\n",
    "            The maximum number relaxation-guesses (i.e. the length of the\n",
    "            list you are creating) allotted before the \n",
    "            algorithm will end. The length of the list you return should\n",
    "            never exceed this number.\n",
    "            \n",
    "        Returns\n",
    "        -------\n",
    "        List[float]\n",
    "            A list of the initial guess, and all of the subsequent guesses generated\n",
    "            by the relaxation method. \"\"\"\n",
    "    guess = [xo]\n",
    "    calctol = 10000\n",
    "    while calctol >= tol and len(guess)<=max_it+1:\n",
    "        guess.append(func(guess[-1]))\n",
    "        if(len(guess)>=3):\n",
    "            den = 2*guess[-2]-guess[-3]-guess[-1]\n",
    "            if den==0.0:\n",
    "                den = 1e-14\n",
    "            calctol = fabs((guess[-1]-guess[-2])**2/den)\n",
    "    return guess\n",
    "    # student code goes here\n"
   ]
  },
  {
   "cell_type": "code",
   "execution_count": 9,
   "metadata": {},
   "outputs": [
    {
     "name": "stdout",
     "output_type": "stream",
     "text": [
      "Finding fixed-points for the function: f(x) = 2 - exp(-x)\n",
      "Passed!\n",
      "\n",
      "============================== ALL TESTS PASSED! ===============================\n",
      "Your submission code: bw198bc196be0167f289ca5aa024676cd58121052e50518401514a7a58\n",
      "================================================================================\n"
     ]
    }
   ],
   "source": [
    "from grader import grade_relaxation2\n",
    "grade_relaxation2(relaxation_method2)"
   ]
  },
  {
   "cell_type": "markdown",
   "metadata": {},
   "source": [
    "## A fun application of the relaxation method\n",
    "The relaxation method is not just a parlor trick, nor are fixed-point equations a relic of pure-mathematics. The following will put the relaxation-function that you wrote to use, in order to solve a very real physics problem. You don't need to do any work here, just follow along and enjoy!\n",
    "\n",
    "You have likely held a bar-magnet before - a special kind of metal that can use its magnetic field to push or pull on other magnets. Such a material is known as a ferromagnet, and it's magnetic properties are created by coordinated behavior among the electrons belonging to its atoms. The electrons in a ferromagnet naturally coordinate in such a way to create an overall magnetic field throughout and around the material. However, heating up a ferromagnet will jostle its atoms and electrons around, disturbing the coordination of the electrons and thus weakening the net magnetic field of the material. If you set out to describe the statistical behavior of a ferromagnetic material's electrons, you will eventually find that the strength of its magnetization, $M$, depends on temperature, $T$, according to the following equation:\n",
    "\n",
    "\\begin{equation}\n",
    "M = \\mu\\tanh{\\frac{JM}{k_{B}T}}\n",
    "\\end{equation}\n",
    "\n",
    "where $\\mu$ and $J$ are physical constants particular to the specific ferromagnetic material we are interested in, and $k_B$ is a fundamental constant from statistical mechanics. If $M = 0$, then the material is completely non-magnetic. For simplicity's sake, we'll set these constants to 1, without changing the essence of the problem at hand. Thus our equation for the magnetization of our material becomes: \n",
    "\n",
    "\\begin{equation}\n",
    "M = \\tanh{\\frac{M}{T}}\n",
    "\\end{equation}\n",
    "\n",
    "This is a fixed-point equation! We can pick a value of $T$, and then use the relaxation method to solve for $M$. By varying $T$, we can measure the magnetization for each value of $T$, and thus understand how the material's magnetization depends on temperature.\n",
    "\n",
    "In the following code, we will pick a value of $T$, and then solve for $M$ (within a given tolerance). Then we pick our next value of $T$ and repeat the process. Ultimately, we will have a collection of temperature values and corresponding magnetization values. We will plot $M$ vs $T$ to understand the temperature dependence for a ferromagnetic material."
   ]
  },
  {
   "cell_type": "code",
   "execution_count": null,
   "metadata": {},
   "outputs": [],
   "source": [
    "# just run this cell - you don't need to change any of this code\n",
    "\n",
    "import numpy as np\n",
    "# `temps` is 1000 evenly-spaced values within [0, 1.5]\n",
    "temps = np.linspace(0, 1.5, 1000)\n",
    "\n",
    "mags = []\n",
    "for T in temps:\n",
    "    \n",
    "    # define the magnetization function, given\n",
    "    # the current temperature value\n",
    "    def mag_func(m, temp=T): \n",
    "        return np.tanh(m / temp) if temp > 0. else 1.\n",
    "    \n",
    "    # Use the relaxation value to compute M within an error\n",
    "    # of 1e-6.\n",
    "    mag = relaxation_method2(mag_func, 1., 1e-6, 1000)[-1]\n",
    "    mags.append(mag)\n",
    "\n",
    "print(\"number of magnetization-values computed: {}\".format(len(mags)))"
   ]
  },
  {
   "cell_type": "code",
   "execution_count": null,
   "metadata": {},
   "outputs": [],
   "source": [
    "# just run this cell - you don't need to change any of this code\n",
    "\n",
    "# Plotting M vs T\n",
    "import matplotlib.pyplot as plt\n",
    "%matplotlib notebook\n",
    "fig, ax = plt.subplots()\n",
    "ax.plot(temps, mags)\n",
    "ax.grid(True)\n",
    "ax.set_ylabel(\"Magnetization\")\n",
    "ax.set_xlabel(r\"$T$\")\n",
    "ax.set_title(\"Magnetization vs Temperature\");"
   ]
  },
  {
   "cell_type": "markdown",
   "metadata": {},
   "source": [
    "See that $M = 0$ for high temperatures, meaning that the material is non-magnetic when it is at a temperature greater than 1 (no actual units, since we set all those constants to be $1$). However, once the material is cooled to $T \\leq 1$, the material suddenly magnetizes, and its magnetization strengthens as you cool it further.\n",
    "\n",
    "This sudden magnetization at $T = 1$ is a *phase transition*. This is very similar to water freezing: water's atoms molecules will rapidly begin to form a crystal once they are cooled to 0-celsius or below. Similarly, we see that a ferromagnetic material's electrons will suddenly be able to coordinate and produce a net magnetic field throughout the material, once they are cooled to $T=1$ and below.\n",
    "\n",
    "This is a no-joke physics problem that we were able to solve thanks to the relaxation method! If you look up the constants, $\\mu$ and $J$, for a specific material, you can repeat this computation to produce its actual magnetic phase diagram. This rules!"
   ]
  }
 ],
 "metadata": {
  "kernelspec": {
   "display_name": "Python 3",
   "language": "python",
   "name": "python3"
  }
 },
 "nbformat": 4,
 "nbformat_minor": 2
}
