{
 "cells": [
  {
   "cell_type": "markdown",
   "metadata": {},
   "source": [
    "# Is it a palindrome? \n",
    "\n",
    "A palindrome is a word, phrase, or sequence that reads the same backward as forward, e.g., \"madam\" or \"nurses run\".\n",
    "\n",
    "Write code that takes a string and returns `True` if that string is a palindrome. Your analysis should be case-insensitive and should disregard spaces. E.g. \"Race car\" should be considered a palindrome, despite beginning with a capitalized letter and containing a space. The strings will *not* contain punctuation. Thus your function should produce the following behavior: \n",
    "\n",
    "- \"Are we not drawn onward to new era\" $\\rightarrow$ `True`\n",
    "- \"batman\" $\\rightarrow$ `False` \n",
    "- \"1 + 1\" $\\rightarrow$ `True`\n",
    "- \"a\" $\\rightarrow$ `True`\n",
    "\n",
    "Use built-in string-functions and slicing to solve this problem efficiently."
   ]
  },
  {
   "cell_type": "code",
   "execution_count": 3,
   "metadata": {},
   "outputs": [],
   "source": [
    "# make sure to execute this cell so that your function is defined\n",
    "# you must re-run this cell any time you make a change to this function\n",
    "\n",
    "from math import floor\n",
    "\n",
    "def student_func(x):\n",
    "    # `x` is a string\n",
    "    # this function should return either `True` or `False`\n",
    "    \n",
    "    # write your code here\n",
    "    # be sure to include a `return` statement so that\n",
    "    # your function returns the appropriate object.\n",
    "    x = x.lower()\n",
    "    words = x.split(' ')\n",
    "    x = ''\n",
    "    for word in words:\n",
    "        x = x + word\n",
    "    for i in range(floor(len(x)/2)):\n",
    "        if x[i] != x[len(x)-i-1]:\n",
    "            return False\n",
    "        \n",
    "    return True\n",
    "    \n",
    "    pass"
   ]
  },
  {
   "cell_type": "code",
   "execution_count": 4,
   "metadata": {},
   "outputs": [
    {
     "name": "stdout",
     "output_type": "stream",
     "text": [
      "============================== ALL TESTS PASSED! ===============================\n",
      "Your submission code: bwcc89a4c20ee5f058fd03b523ed1d76716d97c03676ce627a5508e673\n",
      "================================================================================\n"
     ]
    }
   ],
   "source": [
    "# Execute this cell to grade your work\n",
    "from grader import grade_solution\n",
    "grade_solution(student_func)"
   ]
  },
  {
   "cell_type": "code",
   "execution_count": null,
   "metadata": {},
   "outputs": [],
   "source": []
  },
  {
   "cell_type": "code",
   "execution_count": null,
   "metadata": {},
   "outputs": [],
   "source": []
  }
 ],
 "metadata": {
  "kernelspec": {
   "display_name": "Python 3",
   "language": "python",
   "name": "python3"
  },
  "language_info": {
   "codemirror_mode": {
    "name": "ipython",
    "version": 3
   },
   "file_extension": ".py",
   "mimetype": "text/x-python",
   "name": "python",
   "nbconvert_exporter": "python",
   "pygments_lexer": "ipython3",
   "version": "3.6.4"
  }
 },
 "nbformat": 4,
 "nbformat_minor": 2
}
