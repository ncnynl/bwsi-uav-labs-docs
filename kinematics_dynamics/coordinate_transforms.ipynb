{
 "cells": [
  {
   "cell_type": "markdown",
   "metadata": {},
   "source": [
    "# Practicing Coordinate Transforms\n",
    "\n",
    "In this notebook we will be practicing how to transform vectors between the various reference frames used for navigating and controlling an autonomous quadrotor. For this work we will be relying heavily on the [tf/transformations.py](https://github.com/ros/geometry/blob/hydro-devel/tf/src/tf/transformations.py) library."
   ]
  },
  {
   "cell_type": "code",
   "execution_count": 2,
   "metadata": {},
   "outputs": [],
   "source": [
    "from __future__ import division, print_function\n",
    "import numpy as np\n",
    "import tf.transformations as tft\n",
    "\n",
    "# Variable Notation:\n",
    "# v__x: vector expressed in \"x\" frame\n",
    "# q_x_y: quaternion of \"x\" frame with respect to \"y\" frame\n",
    "# p_x_y__z: position of \"x\" frame with respect to \"y\" frame expressed in \"z\" coordinates\n",
    "# v_x_y__z: velocity of \"x\" frame with respect to \"y\" frame expressed in \"z\" coordinates\n",
    "# R_x2y: rotation matrix that maps vector represented in frame \"x\" to representation in frame \"y\" (right-multiply column vec)\n",
    "#\n",
    "# Frame Subscripts:\n",
    "# m = marker frame (x-right, y-up, z-out when looking at marker)\n",
    "# dc = downward-facing camera\n",
    "# fc = forward-facing camera\n",
    "# bu = body-up frame (x-forward, y-left, z-up, similar to ENU)\n",
    "# bd = body-down frame (x-forward, y-right, z-down, similar to NED)\n",
    "# lenu = local East-North-Up world frame (\"local\" implies that it may not be aligned with east and north, but z is up)\n",
    "# lned = local North-East-Down world frame (\"local\" implies that it may not be aligned with north and east, but z is down)"
   ]
  },
  {
   "cell_type": "code",
   "execution_count": 1,
   "metadata": {},
   "outputs": [],
   "source": [
    "# Concept Questions: Just based on your understanding of what the different reference frames represent,\n",
    "# can you find the following velocities just by inspection?:\n",
    "v_bd_bd__bd = [0., 0., 0.]\n",
    "v_bu_bu__bu = [0., 0., 0.]\n",
    "v_fc_fc__fc = [0., 0., 0.]\n",
    "v_dc_dc__dc = [0., 0., 0.]\n",
    "v_bd_bd__fc = [0., 0., 0.]\n",
    "v_dc_dc__lned = [0., 0., 0.]\n",
    "v_bd_fc__lned = [0., 0., 0.]\n",
    "v_dc_bu__lenu = [0., 0., 0.]"
   ]
  },
  {
   "cell_type": "markdown",
   "metadata": {},
   "source": [
    "## Fixed/Static Relative Rotations\n",
    "\n",
    "This rotation matrices are constant, they don't change regardless of the motion of the quadrotor"
   ]
  },
  {
   "cell_type": "code",
   "execution_count": 3,
   "metadata": {},
   "outputs": [],
   "source": [
    "class StaticTransforms():\n",
    "    # local ENU and local NED\n",
    "    R_lenu2lned = tft.rotation_matrix(np.pi, (1,0,0))\n",
    "\n",
    "    # body-up and body-down\n",
    "    R_bu2bd = tft.rotation_matrix(np.pi, (1,0,0))\n",
    "\n",
    "    # downward camera and body-down\n",
    "    R_dc2bd = tft.identity_matrix()\n",
    "\n",
    "    # forward camera and body-down\n",
    "    R_fc2bd = np.array([[0.0, 0.0, 1.0, 0.0],\n",
    "                        [1.0, 0.0, 0.0, 0.0],\n",
    "                        [0.0, 1.0, 0.0, 0.0],\n",
    "                        [0.0, 0.0, 0.0, 1.0]])\n",
    "    \n",
    "    # Find inverse rotation matrices \n",
    "    R_lned2lenu = R_lenu2lned.T\n",
    "    R_bd2bu = R_bu2bd.T\n",
    "    R_bd2dc = R_dc2bd.T\n",
    "    R_bd2fc = R_fc2bd.T\n",
    "    \n",
    "    # Find concatenated rotation matrices from downward-camera to forward-camera\n",
    "    R_dc2fc = tft.concatenate_matrices(R_bd2fc, R_dc2bd)\n",
    "    R_fc2dc = R_dc2fc.T\n",
    "    R_dc2bu = tft.concatenate_matrices(R_bd2bu, R_dc2bd)\n",
    "    R_bu2dc = R_dc2bu.T\n",
    "    R_fc2bu = tft.concatenate_matrices(R_bd2bu, R_fc2bd)\n",
    "    R_bu2fc = R_fc2bu.T\n",
    "    \n",
    "    def __init__(self):\n",
    "        pass\n",
    "    \n",
    "    def coord_transform(self, v__fin, fin, fout):\n",
    "        ''' transform vector v which is represented in frame fin into its representation in frame fout\n",
    "        Args:\n",
    "        - v__fin: 3D vector represented in fin coordinates\n",
    "        - fin: string describing input coordinate frame (bd, bu, fc, dc, lned, lenu)\n",
    "        - fout: string describing output coordinate frame (bd, bu, fc, dc, lned, lenu)\n",
    "        Returns\n",
    "        - v__fout: vector v represent in fout coordinates\n",
    "        '''\n",
    "        \n",
    "        # trivial transform, checking input shape\n",
    "        if fin==fout:\n",
    "            v4__fin = list(v__fin)+[0.0]\n",
    "            R = tft.identity_matrix()\n",
    "            v4__fout = np.dot(R, v4__fin)\n",
    "            v__fout = v4__fout[0:3]\n",
    "            return v__fout\n",
    "        \n",
    "        # check for existence of rotation matrix\n",
    "        R_str = 'R_{}2{}'.format(fin, fout)\n",
    "        try:\n",
    "            R_i2o = getattr(self, R_str)\n",
    "        except AttributeError:\n",
    "            err = 'No static transform exists from {} to {}.'.format(fin, fout)\n",
    "            err += ' Are you sure these frames are not moving relative to each other?'\n",
    "            raise AttributeError(err)\n",
    "        \n",
    "        # perform transform\n",
    "        v4__fin = list(v__fin) + [0.0]\n",
    "        v4__fout = np.dot(R_i2o, v4__fin)\n",
    "        v__fout = v4__fout[0:3]\n",
    "        return v__fout\n",
    " \n",
    "st = StaticTransforms()"
   ]
  },
  {
   "cell_type": "code",
   "execution_count": 8,
   "metadata": {},
   "outputs": [
    {
     "name": "stdout",
     "output_type": "stream",
     "text": [
      "[ 1.  0.  0.]\n",
      "[ 1.  0.  0.]\n",
      "[ 0.  0.  1.]\n"
     ]
    }
   ],
   "source": [
    "# Let's assume the quadrotor has some velocity v1_bd_lned__bd which is the velocity of the quadrotor \n",
    "# body-down frame with respect to the local NED world frame expressed in the body-down frame.\n",
    "# Using the fixed relative rotations, calculate it's expression in the body-up, downward-camera, and forward-camera frames\n",
    "v1_bd_lned__bd = [1.0, 0.0, 0.0]\n",
    "v1_bd_lned__bu = st.coord_transform(v1_bd_lned__bd, \"bd\",\"bu\")\n",
    "v1_bd_lned__dc = st.coord_transform(v1_bd_lned__bd, \"bd\",\"dc\")\n",
    "v1_bd_lned__fc = st.coord_transform(v1_bd_lned__bd, \"bd\",\"fc\")\n",
    "print(v1_bd_lned__bu)\n",
    "print(v1_bd_lned__dc)\n",
    "print(v1_bd_lned__fc)\n"
   ]
  },
  {
   "cell_type": "code",
   "execution_count": null,
   "metadata": {},
   "outputs": [],
   "source": [
    "# Let's assume the quadrotor has some velocity v2_bd_lned__bd which is the velocity of the quadrotor \n",
    "# body-down frame with respect to the local NED world frame expressed in the body-down frame.\n",
    "# Using the fixed relative rotations, calculate its expression in the body-up, downward-camera, and forward-camera frames\n",
    "v2_bd_lned__bd = [0.147, 0.798, 1.221]\n",
    "v2_bd_lned__bu = st.coord_transform(v2_bd_lned__bd, \"bd\",\"bu\")\n",
    "v2_bd_lned__dc = st.coord_transform(v2_bd_lned__bd, \"bd\",\"dc\")\n",
    "v2_bd_lned__fc = st.coord_transform(v2_bd_lned__bd, \"bd\",\"fc\")\n",
    "print(v2_bd_lned__bu)\n",
    "print(v2_bd_lned__dc)\n",
    "print(v2_bd_lned__fc)\n"
   ]
  },
  {
   "cell_type": "code",
   "execution_count": 10,
   "metadata": {},
   "outputs": [
    {
     "name": "stdout",
     "output_type": "stream",
     "text": [
      "[ 0.147  0.798  1.221]\n",
      "[ 0.798  1.221  0.147]\n",
      "[ 0.147 -0.798 -1.221]\n"
     ]
    }
   ],
   "source": [
    "# Let's assume the quadrotor has some velocity v3_dc_lenu__dc which is the velocity of the quadrotor \n",
    "# downward-camera frame with respect to the local ENU world frame expressed in the downward-camera frame.\n",
    "# Using the static transforms, calculate it's expression in the body-down, forward-camera, and body-up frames\n",
    "v3_dc_lenu__dc = [4.853, 2.979, 1.884]\n",
    "v3_dc_lenu__bd = st.coord_transform(v2_bd_lned__bd, \"dc\",\"bd\")\n",
    "v3_dc_lenu__fc = st.coord_transform(v2_bd_lned__bd, \"dc\",\"fc\")\n",
    "v3_dc_lenu__bu = st.coord_transform(v2_bd_lned__bd, \"dc\",\"bu\")\n",
    "print(v3_dc_lenu__bd)\n",
    "print(v3_dc_lenu__fc)\n",
    "print(v3_dc_lenu__bu)"
   ]
  },
  {
   "cell_type": "code",
   "execution_count": 11,
   "metadata": {},
   "outputs": [
    {
     "name": "stdout",
     "output_type": "stream",
     "text": [
      "[ 0.798  1.221  0.147]\n",
      "[ 0.147  0.798  1.221]\n",
      "[ 0.147 -0.798 -1.221]\n"
     ]
    }
   ],
   "source": [
    "# Let's assume the quadrotor has some velocity v4_fc_lenu__bd which is the velocity of the quadrotor \n",
    "# forward-camera frame with respect to the local ENU world frame expressed in the body-down frame.\n",
    "# Using the static transforms, calculate it's expression in the forward-camera, downward-camera and and body-up frames\n",
    "v4_fc_lenu__bd = [0.0, 0.0, -1.0]\n",
    "v4_fc_lenu__fc = st.coord_transform(v2_bd_lned__bd, \"bd\",\"fc\")\n",
    "v4_fc_lenu__dc = st.coord_transform(v2_bd_lned__bd, \"bd\",\"dc\")\n",
    "v4_fc_lenu__bu = st.coord_transform(v2_bd_lned__bd, \"bd\",\"bu\")\n",
    "print(v4_fc_lenu__fc)\n",
    "print(v4_fc_lenu__dc)\n",
    "print(v4_fc_lenu__bu)"
   ]
  },
  {
   "cell_type": "markdown",
   "metadata": {},
   "source": [
    "## Dynamic Relative Rotations\n",
    "\n",
    "In the previous section we looked at reference frames that remain fixed relative to one another (i.e. reference frames that are all attached to quadrotor or reference frames, or reference frames that are all associated with inertial local world frames). Now were going to look at reference frames that may be moving relative to one another, such as a body-fixed frame and the local world frame.\n",
    "\n",
    "For such moving frames, we often can't create rotation matrices by inspection. Furthermore, such rotations need to be calculated automatically by the quadrotor's flight computer in real-time. This is the job of the _state estimator_ that runs onboard the flight computer. The state estimator will output estimates of the relative rotations between local world frame and the body frame.\n",
    "\n",
    "More specifically, the topic `mavros/local_position/pose` provides [`PoseStamped`](http://docs.ros.org/melodic/api/geometry_msgs/html/msg/PoseStamped.html) messages that contain the orientation of the body-down frame with respect to the local ENU frame in the form of a [`Quaternion`](http://docs.ros.org/melodic/api/geometry_msgs/html/msg/Quaternion.html).\n",
    "\n",
    "Therefore, when using MAVROS, you could use a assignment such as the one below to find `q_bu_lenu`:\n",
    "\n",
    "```\n",
    "q_bu_lenu = pose_stamped_msg.pose.orientation\n",
    "```\n",
    "\n",
    "Below is a function that we can use when flying the drone to transforms vectors in an arbitrary reference frame to the local ENU reference frame, assuming that we have access to the `mavros/local_position/pose` topic to tell us `q_bu_lenu` (in this case we assume they are velocity vectors) "
   ]
  },
  {
   "cell_type": "code",
   "execution_count": null,
   "metadata": {},
   "outputs": [],
   "source": [
    "def get_lenu_velocity(q_bu_lenu, v__fin, fin='bu', static_transforms=None):\n",
    "        '''tranforms a vector represented in fin frame to vector in lenu frame\n",
    "        Args:\n",
    "        - v__fin: 3D vector represented in input frame coordinates\n",
    "        - fin: string describing input coordinate frame (bd, bu, fc, dc)\n",
    "        Returns:\n",
    "        - v__lenu: 3D vector v represented in local ENU world frame\n",
    "        '''\n",
    "\n",
    "        # create static transforms if none given\n",
    "        if static_transforms is None:\n",
    "            static_transforms = StaticTransforms()\n",
    "\n",
    "        if fin=='lenu':\n",
    "            v__lenu = v__fin\n",
    "\n",
    "        elif fin=='lned':\n",
    "            v__lenu = static_transforms.coord_transform(v__fin, 'lned', 'lenu')\n",
    "\n",
    "        else:\n",
    "            # create rotation matrix from quaternion\n",
    "            R_bu2lenu = tft.quaternion_matrix(q_bu_lenu)\n",
    "            \n",
    "            # represent vector v in body-down coordinates\n",
    "            v__bu = static_transforms.coord_transform(v__fin, fin, 'bu')\n",
    "            \n",
    "            # calculate lenu representation of v\n",
    "            v__lenu = np.dot(R_bu2lenu, list(v__bu)+[0.0])\n",
    "\n",
    "        v__lenu = np.array(v__lenu[0:3])\n",
    "        return v__lenu"
   ]
  },
  {
   "cell_type": "code",
   "execution_count": null,
   "metadata": {},
   "outputs": [],
   "source": [
    "tft.quaternion_from_matrix(tft.identity_matrix())"
   ]
  },
  {
   "cell_type": "markdown",
   "metadata": {},
   "source": [
    "## ROS tf2 Library\n",
    "\n",
    "The problems we have attempted to address in this module (i.e. managing multiple reference frames) are by no means unique to quadrotors and we are not the first people to write functions to solve such problems. The functionality of managing different reference frames is ubiquitous throughout robotics, aerospace engineering, mechanical engineering, computer graphics, etc. and many libraries have been written for handling such functionality. When working with ROS, the most important of such libraries is the [tf (now tf2) library](http://wiki.ros.org/tf2). While we have access to this library on the drone, we have not made use of it here because it obscures some of the underlying mathematics that we hope for you to learn and it requires additional setup steps when defining new frames that we don't intend to teach. If you are curious to know more about how ROS manages large numbers of reference frames simultaneously, we encourage you to read up more on `tf`.\n",
    "\n",
    "__NOTE:__ `tf` in the context of ROS should not be confused with TensorFlow which is often abbreviated as tf in code. These libraries have completely different purposes."
   ]
  },
  {
   "cell_type": "code",
   "execution_count": null,
   "metadata": {},
   "outputs": [],
   "source": []
  }
 ],
 "metadata": {
  "kernelspec": {
   "display_name": "Python 2",
   "language": "python",
   "name": "python2"
  },
  "language_info": {
   "codemirror_mode": {
    "name": "ipython",
    "version": 2
   },
   "file_extension": ".py",
   "mimetype": "text/x-python",
   "name": "python",
   "nbconvert_exporter": "python",
   "pygments_lexer": "ipython2",
   "version": "2.7.12"
  }
 },
 "nbformat": 4,
 "nbformat_minor": 2
}
